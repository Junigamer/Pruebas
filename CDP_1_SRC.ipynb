{
  "cells": [
    {
      "cell_type": "markdown",
      "metadata": {
        "id": "view-in-github",
        "colab_type": "text"
      },
      "source": [
        "<a href=\"https://colab.research.google.com/github/Junigamer/Pruebas/blob/main/CDP_1_SRC.ipynb\" target=\"_parent\"><img src=\"https://colab.research.google.com/assets/colab-badge.svg\" alt=\"Open In Colab\"/></a>"
      ]
    },
    {
      "cell_type": "markdown",
      "metadata": {
        "id": "2cPJ3kNwEuO5"
      },
      "source": [
        "# Proyecto: Community Detection Problem"
      ]
    },
    {
      "cell_type": "markdown",
      "metadata": {
        "id": "f5ANnImBEuO8"
      },
      "source": [
        "Para comenzar vamos a comprobar que seamos capaces de importar los módulos de Python que necesitaremos.\n",
        "La finalidad de este cuaderno será hacer una <i>puesta a punto</i>: instalar los módulos, y poder cargar los datos NIPS.\n",
        "Finalmente, a partir de los datos de NIPS y utilizando los módulos NetworkX y Community, mostraremos distintos gráficos sobre los autores y su colaboración.\n",
        "\n",
        "Importa las siguientes bibliotecas:"
      ]
    },
    {
      "cell_type": "code",
      "execution_count": null,
      "metadata": {
        "id": "hD7BRbAUEuO9"
      },
      "outputs": [],
      "source": [
        "# SQL\n",
        "import sqlite3\n",
        "\n",
        "# Pandas\n",
        "import pandas as pd\n",
        "\n",
        "# Graph\n",
        "import community\n",
        "import networkx as nx\n",
        "\n",
        "# Plot\n",
        "import matplotlib.pyplot as plt\n",
        "import seaborn as sns\n",
        "\n",
        "# Combinations\n",
        "import itertools"
      ]
    },
    {
      "cell_type": "code",
      "source": [
        "from google.colab import drive\n",
        "drive.mount('/content/drive')"
      ],
      "metadata": {
        "colab": {
          "base_uri": "https://localhost:8080/"
        },
        "id": "ON2_sCySHK9f",
        "outputId": "72eac167-6f50-48b4-a756-f6cf6acd7ecd"
      },
      "execution_count": null,
      "outputs": [
        {
          "output_type": "stream",
          "name": "stdout",
          "text": [
            "Drive already mounted at /content/drive; to attempt to forcibly remount, call drive.mount(\"/content/drive\", force_remount=True).\n"
          ]
        }
      ]
    },
    {
      "cell_type": "markdown",
      "metadata": {
        "id": "O2R7WuHoEuO_"
      },
      "source": [
        "### Construcción del grafo NIPS\n",
        "\n",
        "Los datos publicados en la conferencia NIPS durante las últimas décadas se encuentran en el archivo <b>database.sqlite</b>.\n",
        "Usando el siguiente código, deberíamos poder extraer los datos en una tabla de tres columnas.\n",
        "En las columnas debe aparecer el ID del artículo, el ID del autor y el nombre del autor."
      ]
    },
    {
      "cell_type": "code",
      "execution_count": null,
      "metadata": {
        "colab": {
          "base_uri": "https://localhost:8080/",
          "height": 363
        },
        "id": "fraSmVsGEuPA",
        "outputId": "bd47238d-0793-44cb-bbd7-2ab09592b4ba"
      },
      "outputs": [
        {
          "output_type": "execute_result",
          "data": {
            "text/plain": [
              "   paper_id  author_id                   name\n",
              "0      5239       5654       Krikamol Muandet\n",
              "1      5239       7140  Bharath Sriperumbudur\n",
              "2      5239       1472     Bernhard Sch?lkopf\n",
              "3      5591       5209          Yichuan Zhang\n",
              "4      5591       7542         Charles Sutton\n",
              "5      5597       7649                  Mu Li\n",
              "6      5597       7650      David G. Andersen\n",
              "7      5597       6548     Alexander J. Smola\n",
              "8      5597       2847                 Kai Yu\n",
              "9      5299       7226     Halid Z. Yerebakan"
            ],
            "text/html": [
              "\n",
              "  <div id=\"df-4850253c-e8fa-4795-89e7-307940114490\" class=\"colab-df-container\">\n",
              "    <div>\n",
              "<style scoped>\n",
              "    .dataframe tbody tr th:only-of-type {\n",
              "        vertical-align: middle;\n",
              "    }\n",
              "\n",
              "    .dataframe tbody tr th {\n",
              "        vertical-align: top;\n",
              "    }\n",
              "\n",
              "    .dataframe thead th {\n",
              "        text-align: right;\n",
              "    }\n",
              "</style>\n",
              "<table border=\"1\" class=\"dataframe\">\n",
              "  <thead>\n",
              "    <tr style=\"text-align: right;\">\n",
              "      <th></th>\n",
              "      <th>paper_id</th>\n",
              "      <th>author_id</th>\n",
              "      <th>name</th>\n",
              "    </tr>\n",
              "  </thead>\n",
              "  <tbody>\n",
              "    <tr>\n",
              "      <th>0</th>\n",
              "      <td>5239</td>\n",
              "      <td>5654</td>\n",
              "      <td>Krikamol Muandet</td>\n",
              "    </tr>\n",
              "    <tr>\n",
              "      <th>1</th>\n",
              "      <td>5239</td>\n",
              "      <td>7140</td>\n",
              "      <td>Bharath Sriperumbudur</td>\n",
              "    </tr>\n",
              "    <tr>\n",
              "      <th>2</th>\n",
              "      <td>5239</td>\n",
              "      <td>1472</td>\n",
              "      <td>Bernhard Sch?lkopf</td>\n",
              "    </tr>\n",
              "    <tr>\n",
              "      <th>3</th>\n",
              "      <td>5591</td>\n",
              "      <td>5209</td>\n",
              "      <td>Yichuan Zhang</td>\n",
              "    </tr>\n",
              "    <tr>\n",
              "      <th>4</th>\n",
              "      <td>5591</td>\n",
              "      <td>7542</td>\n",
              "      <td>Charles Sutton</td>\n",
              "    </tr>\n",
              "    <tr>\n",
              "      <th>5</th>\n",
              "      <td>5597</td>\n",
              "      <td>7649</td>\n",
              "      <td>Mu Li</td>\n",
              "    </tr>\n",
              "    <tr>\n",
              "      <th>6</th>\n",
              "      <td>5597</td>\n",
              "      <td>7650</td>\n",
              "      <td>David G. Andersen</td>\n",
              "    </tr>\n",
              "    <tr>\n",
              "      <th>7</th>\n",
              "      <td>5597</td>\n",
              "      <td>6548</td>\n",
              "      <td>Alexander J. Smola</td>\n",
              "    </tr>\n",
              "    <tr>\n",
              "      <th>8</th>\n",
              "      <td>5597</td>\n",
              "      <td>2847</td>\n",
              "      <td>Kai Yu</td>\n",
              "    </tr>\n",
              "    <tr>\n",
              "      <th>9</th>\n",
              "      <td>5299</td>\n",
              "      <td>7226</td>\n",
              "      <td>Halid Z. Yerebakan</td>\n",
              "    </tr>\n",
              "  </tbody>\n",
              "</table>\n",
              "</div>\n",
              "    <div class=\"colab-df-buttons\">\n",
              "\n",
              "  <div class=\"colab-df-container\">\n",
              "    <button class=\"colab-df-convert\" onclick=\"convertToInteractive('df-4850253c-e8fa-4795-89e7-307940114490')\"\n",
              "            title=\"Convert this dataframe to an interactive table.\"\n",
              "            style=\"display:none;\">\n",
              "\n",
              "  <svg xmlns=\"http://www.w3.org/2000/svg\" height=\"24px\" viewBox=\"0 -960 960 960\">\n",
              "    <path d=\"M120-120v-720h720v720H120Zm60-500h600v-160H180v160Zm220 220h160v-160H400v160Zm0 220h160v-160H400v160ZM180-400h160v-160H180v160Zm440 0h160v-160H620v160ZM180-180h160v-160H180v160Zm440 0h160v-160H620v160Z\"/>\n",
              "  </svg>\n",
              "    </button>\n",
              "\n",
              "  <style>\n",
              "    .colab-df-container {\n",
              "      display:flex;\n",
              "      gap: 12px;\n",
              "    }\n",
              "\n",
              "    .colab-df-convert {\n",
              "      background-color: #E8F0FE;\n",
              "      border: none;\n",
              "      border-radius: 50%;\n",
              "      cursor: pointer;\n",
              "      display: none;\n",
              "      fill: #1967D2;\n",
              "      height: 32px;\n",
              "      padding: 0 0 0 0;\n",
              "      width: 32px;\n",
              "    }\n",
              "\n",
              "    .colab-df-convert:hover {\n",
              "      background-color: #E2EBFA;\n",
              "      box-shadow: 0px 1px 2px rgba(60, 64, 67, 0.3), 0px 1px 3px 1px rgba(60, 64, 67, 0.15);\n",
              "      fill: #174EA6;\n",
              "    }\n",
              "\n",
              "    .colab-df-buttons div {\n",
              "      margin-bottom: 4px;\n",
              "    }\n",
              "\n",
              "    [theme=dark] .colab-df-convert {\n",
              "      background-color: #3B4455;\n",
              "      fill: #D2E3FC;\n",
              "    }\n",
              "\n",
              "    [theme=dark] .colab-df-convert:hover {\n",
              "      background-color: #434B5C;\n",
              "      box-shadow: 0px 1px 3px 1px rgba(0, 0, 0, 0.15);\n",
              "      filter: drop-shadow(0px 1px 2px rgba(0, 0, 0, 0.3));\n",
              "      fill: #FFFFFF;\n",
              "    }\n",
              "  </style>\n",
              "\n",
              "    <script>\n",
              "      const buttonEl =\n",
              "        document.querySelector('#df-4850253c-e8fa-4795-89e7-307940114490 button.colab-df-convert');\n",
              "      buttonEl.style.display =\n",
              "        google.colab.kernel.accessAllowed ? 'block' : 'none';\n",
              "\n",
              "      async function convertToInteractive(key) {\n",
              "        const element = document.querySelector('#df-4850253c-e8fa-4795-89e7-307940114490');\n",
              "        const dataTable =\n",
              "          await google.colab.kernel.invokeFunction('convertToInteractive',\n",
              "                                                    [key], {});\n",
              "        if (!dataTable) return;\n",
              "\n",
              "        const docLinkHtml = 'Like what you see? Visit the ' +\n",
              "          '<a target=\"_blank\" href=https://colab.research.google.com/notebooks/data_table.ipynb>data table notebook</a>'\n",
              "          + ' to learn more about interactive tables.';\n",
              "        element.innerHTML = '';\n",
              "        dataTable['output_type'] = 'display_data';\n",
              "        await google.colab.output.renderOutput(dataTable, element);\n",
              "        const docLink = document.createElement('div');\n",
              "        docLink.innerHTML = docLinkHtml;\n",
              "        element.appendChild(docLink);\n",
              "      }\n",
              "    </script>\n",
              "  </div>\n",
              "\n",
              "\n",
              "<div id=\"df-74bdd1e2-d3f6-4cf7-a1f9-8542ec2a08bb\">\n",
              "  <button class=\"colab-df-quickchart\" onclick=\"quickchart('df-74bdd1e2-d3f6-4cf7-a1f9-8542ec2a08bb')\"\n",
              "            title=\"Suggest charts\"\n",
              "            style=\"display:none;\">\n",
              "\n",
              "<svg xmlns=\"http://www.w3.org/2000/svg\" height=\"24px\"viewBox=\"0 0 24 24\"\n",
              "     width=\"24px\">\n",
              "    <g>\n",
              "        <path d=\"M19 3H5c-1.1 0-2 .9-2 2v14c0 1.1.9 2 2 2h14c1.1 0 2-.9 2-2V5c0-1.1-.9-2-2-2zM9 17H7v-7h2v7zm4 0h-2V7h2v10zm4 0h-2v-4h2v4z\"/>\n",
              "    </g>\n",
              "</svg>\n",
              "  </button>\n",
              "\n",
              "<style>\n",
              "  .colab-df-quickchart {\n",
              "      --bg-color: #E8F0FE;\n",
              "      --fill-color: #1967D2;\n",
              "      --hover-bg-color: #E2EBFA;\n",
              "      --hover-fill-color: #174EA6;\n",
              "      --disabled-fill-color: #AAA;\n",
              "      --disabled-bg-color: #DDD;\n",
              "  }\n",
              "\n",
              "  [theme=dark] .colab-df-quickchart {\n",
              "      --bg-color: #3B4455;\n",
              "      --fill-color: #D2E3FC;\n",
              "      --hover-bg-color: #434B5C;\n",
              "      --hover-fill-color: #FFFFFF;\n",
              "      --disabled-bg-color: #3B4455;\n",
              "      --disabled-fill-color: #666;\n",
              "  }\n",
              "\n",
              "  .colab-df-quickchart {\n",
              "    background-color: var(--bg-color);\n",
              "    border: none;\n",
              "    border-radius: 50%;\n",
              "    cursor: pointer;\n",
              "    display: none;\n",
              "    fill: var(--fill-color);\n",
              "    height: 32px;\n",
              "    padding: 0;\n",
              "    width: 32px;\n",
              "  }\n",
              "\n",
              "  .colab-df-quickchart:hover {\n",
              "    background-color: var(--hover-bg-color);\n",
              "    box-shadow: 0 1px 2px rgba(60, 64, 67, 0.3), 0 1px 3px 1px rgba(60, 64, 67, 0.15);\n",
              "    fill: var(--button-hover-fill-color);\n",
              "  }\n",
              "\n",
              "  .colab-df-quickchart-complete:disabled,\n",
              "  .colab-df-quickchart-complete:disabled:hover {\n",
              "    background-color: var(--disabled-bg-color);\n",
              "    fill: var(--disabled-fill-color);\n",
              "    box-shadow: none;\n",
              "  }\n",
              "\n",
              "  .colab-df-spinner {\n",
              "    border: 2px solid var(--fill-color);\n",
              "    border-color: transparent;\n",
              "    border-bottom-color: var(--fill-color);\n",
              "    animation:\n",
              "      spin 1s steps(1) infinite;\n",
              "  }\n",
              "\n",
              "  @keyframes spin {\n",
              "    0% {\n",
              "      border-color: transparent;\n",
              "      border-bottom-color: var(--fill-color);\n",
              "      border-left-color: var(--fill-color);\n",
              "    }\n",
              "    20% {\n",
              "      border-color: transparent;\n",
              "      border-left-color: var(--fill-color);\n",
              "      border-top-color: var(--fill-color);\n",
              "    }\n",
              "    30% {\n",
              "      border-color: transparent;\n",
              "      border-left-color: var(--fill-color);\n",
              "      border-top-color: var(--fill-color);\n",
              "      border-right-color: var(--fill-color);\n",
              "    }\n",
              "    40% {\n",
              "      border-color: transparent;\n",
              "      border-right-color: var(--fill-color);\n",
              "      border-top-color: var(--fill-color);\n",
              "    }\n",
              "    60% {\n",
              "      border-color: transparent;\n",
              "      border-right-color: var(--fill-color);\n",
              "    }\n",
              "    80% {\n",
              "      border-color: transparent;\n",
              "      border-right-color: var(--fill-color);\n",
              "      border-bottom-color: var(--fill-color);\n",
              "    }\n",
              "    90% {\n",
              "      border-color: transparent;\n",
              "      border-bottom-color: var(--fill-color);\n",
              "    }\n",
              "  }\n",
              "</style>\n",
              "\n",
              "  <script>\n",
              "    async function quickchart(key) {\n",
              "      const quickchartButtonEl =\n",
              "        document.querySelector('#' + key + ' button');\n",
              "      quickchartButtonEl.disabled = true;  // To prevent multiple clicks.\n",
              "      quickchartButtonEl.classList.add('colab-df-spinner');\n",
              "      try {\n",
              "        const charts = await google.colab.kernel.invokeFunction(\n",
              "            'suggestCharts', [key], {});\n",
              "      } catch (error) {\n",
              "        console.error('Error during call to suggestCharts:', error);\n",
              "      }\n",
              "      quickchartButtonEl.classList.remove('colab-df-spinner');\n",
              "      quickchartButtonEl.classList.add('colab-df-quickchart-complete');\n",
              "    }\n",
              "    (() => {\n",
              "      let quickchartButtonEl =\n",
              "        document.querySelector('#df-74bdd1e2-d3f6-4cf7-a1f9-8542ec2a08bb button');\n",
              "      quickchartButtonEl.style.display =\n",
              "        google.colab.kernel.accessAllowed ? 'block' : 'none';\n",
              "    })();\n",
              "  </script>\n",
              "</div>\n",
              "    </div>\n",
              "  </div>\n"
            ]
          },
          "metadata": {},
          "execution_count": 12
        }
      ],
      "source": [
        "# Get data\n",
        "connect = sqlite3.connect('/content/drive/MyDrive/Colab Notebooks/Heurísticos de Búsqueda/Proyecto/Data/database.sqlite')\n",
        "query = \"\"\"\n",
        "SELECT pa.paper_id, pa.author_id, a.name\n",
        "FROM paper_authors AS pa JOIN papers AS p ON pa.paper_id = p.id\n",
        "JOIN authors as a ON pa.author_id = a.id\n",
        "WHERE p.Year BETWEEN '2014' AND '2015'\n",
        "\"\"\"\n",
        "df = pd.read_sql(query, connect)\n",
        "\n",
        "# Have a look at data\n",
        "df.head(10)"
      ]
    },
    {
      "cell_type": "markdown",
      "metadata": {
        "id": "4p_C6773EuPB"
      },
      "source": [
        "¡Eureka! Ya tenemos los datos.\n",
        "Ahora construiremos el grafo de colaboración, para esto usaremos el módulo NetworkX.\n",
        "En ese grafo tendremos un nodo para cada autor, y si ha habido colaboración entre dos autores (han escrito un artículo juntos), entonces habrá también un arco entre los nodos correspondientes.\n",
        "Para reflejar la fuerza de la colaboración (no es lo mismo hacer una colaboración, que 100) los arcos tendrán un peso, que indicará el número de colaboraciones.\n",
        "Para saber que has creado el gráfico correctamente, con los datos entre 2014 y 2015, deberías obtener un gráfico con 1843 nodos y 3215 arcos."
      ]
    },
    {
      "cell_type": "code",
      "execution_count": null,
      "metadata": {
        "colab": {
          "base_uri": "https://localhost:8080/"
        },
        "id": "6ATUUEA8EuPB",
        "outputId": "76a3a28d-e52d-4f73-e538-6466cbc345b4"
      },
      "outputs": [
        {
          "output_type": "stream",
          "name": "stdout",
          "text": [
            "Número de autores en el grafo: 1843\n",
            "Número de aristas en el grafo: 3215\n"
          ]
        }
      ],
      "source": [
        "# Initialize graph\n",
        "G = nx.Graph()\n",
        "\n",
        "# Transform\n",
        "for p, a in df.groupby('paper_id')['name']:\n",
        "    for u, v in itertools.combinations(a, 2):\n",
        "        if G.has_edge(u, v):\n",
        "            G[u][v]['weight'] +=1\n",
        "        else:\n",
        "            G.add_edge(u, v, weight=1)\n",
        "\n",
        "# Print graph size\n",
        "print(\"Número de autores en el grafo: {}\".format(G.number_of_nodes()))\n",
        "print(\"Número de aristas en el grafo: {}\".format(G.number_of_edges()))"
      ]
    },
    {
      "cell_type": "markdown",
      "metadata": {
        "id": "W1Halo3hEuPC"
      },
      "source": [
        "Finalmente, mostraremos el grafo que hemos construido.\n",
        "Para ello, utilizaremos el módulo MatPlotLib."
      ]
    },
    {
      "cell_type": "code",
      "execution_count": null,
      "metadata": {
        "colab": {
          "base_uri": "https://localhost:8080/",
          "height": 1000
        },
        "id": "r_5MjHBFEuPD",
        "outputId": "9144e7ce-875f-4386-d35c-be244982e3e7"
      },
      "outputs": [
        {
          "output_type": "display_data",
          "data": {
            "text/plain": [
              "<Figure size 1300x900 with 1 Axes>"
            ],
            "image/png": "[encoded data removed]"
          },
          "metadata": {}
        },
        {
          "output_type": "display_data",
          "data": {
            "text/plain": [
              "<Figure size 640x480 with 1 Axes>"
            ],
            "image/png": "[encoded data removed]"
          },
          "metadata": {}
        }
      ],
      "source": [
        "%matplotlib inline\n",
        "\n",
        "#Draw graph\n",
        "plt.figure(figsize=(13, 9))\n",
        "pos = nx.spring_layout(G)\n",
        "nx.draw_networkx_nodes(G, pos, node_size = 20, node_color='0.75')\n",
        "nx.draw_networkx_edges(G, pos, alpha=0.5, width=1)\n",
        "plt.show()\n",
        "\n",
        "plt.axis('off')\n",
        "plt.show()"
      ]
    },
    {
      "cell_type": "markdown",
      "metadata": {
        "id": "XivWNDz7EuPF"
      },
      "source": [
        "A continuación, crea las siguientes funciones utilizando como base el código anterior:"
      ]
    },
    {
      "cell_type": "code",
      "execution_count": null,
      "metadata": {
        "collapsed": true,
        "id": "pRqJn7wnEuPG"
      },
      "outputs": [],
      "source": [
        "# SQL\n",
        "import sqlite3\n",
        "\n",
        "# Pandas\n",
        "import pandas as pd\n",
        "\n",
        "# Graph\n",
        "import community\n",
        "import networkx as nx\n",
        "\n",
        "# Plot\n",
        "import matplotlib.pyplot as plt\n",
        "import seaborn as sns\n",
        "\n",
        "# Combinations\n",
        "import itertools\n",
        "\n",
        "def crear_grafo():\n",
        "\n",
        "    # Leer datos\n",
        "    # TODO 8 lineas\n",
        "    connect = sqlite3.connect('/content/drive/MyDrive/Colab Notebooks/Heurísticos de Búsqueda/Proyecto/Data/database.sqlite')\n",
        "    query = \"\"\"\n",
        "    SELECT pa.paper_id, pa.author_id, a.name\n",
        "    FROM paper_authors AS pa JOIN papers AS p ON pa.paper_id = p.id\n",
        "    JOIN authors as a ON pa.author_id = a.id\n",
        "    WHERE p.Year BETWEEN '2014' AND '2015'\n",
        "    \"\"\"\n",
        "    df = pd.read_sql(query, connect)\n",
        "\n",
        "\n",
        "    # Crear grafo\n",
        "    # TODO 7-10 lineas\n",
        "    G = nx.Graph()\n",
        "\n",
        "    for p, a in df.groupby('paper_id')['name']:\n",
        "        for u, v in itertools.combinations(a, 2):\n",
        "            if G.has_edge(u, v):\n",
        "                G[u][v]['weight'] +=1\n",
        "            else:\n",
        "                G.add_edge(u, v, weight=1)\n",
        "\n",
        "    return G\n",
        "\n",
        "def visualizar_grafo(G):\n",
        "    # TODO 6 lineas\n",
        "    %matplotlib inline\n",
        "    plt.figure(figsize=(13, 9))\n",
        "    pos = nx.spring_layout(G)\n",
        "    nx.draw_networkx_nodes(G, pos, node_size = 20, node_color='0.75')\n",
        "    nx.draw_networkx_edges(G, pos, alpha=0.5, width=1)\n",
        "    plt.axis('off')\n",
        "    plt.show()"
      ]
    },
    {
      "cell_type": "code",
      "source": [
        "G = crear_grafo()\n",
        "visualizar_grafo(G)"
      ],
      "metadata": {
        "id": "R33BdMkMLapE"
      },
      "execution_count": null,
      "outputs": []
    },
    {
      "cell_type": "markdown",
      "metadata": {
        "id": "UYLwjnN7e6E6"
      },
      "source": [
        "# Sprint 1: Formalización del problema"
      ]
    },
    {
      "cell_type": "markdown",
      "metadata": {
        "id": "ON5of8YXe6FE"
      },
      "source": [
        "## Espacio de codificación de soluciones\n"
      ]
    },
    {
      "cell_type": "code",
      "metadata": {
        "id": "ojtXEmWQe6FG"
      },
      "source": [],
      "execution_count": null,
      "outputs": []
    },
    {
      "cell_type": "markdown",
      "source": [
        "## Codificación de soluciones\n"
      ],
      "metadata": {
        "collapsed": false,
        "id": "Ri1AWmYue6FH"
      }
    },
    {
      "cell_type": "code",
      "execution_count": null,
      "metadata": {
        "collapsed": true,
        "id": "wib1teyAe6FI"
      },
      "outputs": [],
      "source": [
        "### Propón algunas soluciones al problema como ejemplo\n",
        "\n",
        "import random\n",
        "\n",
        "n = G.number_of_nodes()\n",
        "\n",
        "def initialize_vector(n, k):\n",
        "    vector = []\n",
        "    for i in range(n):\n",
        "        vector.append(random.randint(0, k))\n",
        "    return vector\n",
        "\n",
        "def initialize_vector_random(n):\n",
        "    k = random.randint(1,n)\n",
        "    vector = []\n",
        "    for i in range(n):\n",
        "        vector.append(random.randint(0, k-1))\n",
        "    return vector\n",
        "\n",
        "partition1 = initialize_vector(n, 400)\n",
        "partition2 = initialize_vector(n, 50)\n",
        "\n",
        "\n",
        "\n"
      ]
    },
    {
      "cell_type": "markdown",
      "metadata": {
        "id": "zTKDaLFAe6FK"
      },
      "source": [
        "### Función objetivo\n"
      ]
    },
    {
      "cell_type": "code",
      "source": [
        "import numpy as np\n",
        "import community.community_louvain as community_louvain\n",
        "\n",
        "#A = np.array([4,2,1,3])\n",
        "#B = np.array([4,2,1,3])\n",
        "\n",
        "#result = np.outer(A, B)\n",
        "#print(result)\n",
        "#np.multiply(result,result)\n",
        "\n",
        "#partition1 = community_louvain.best_partition(G, weight='weight')\n",
        "#partition2 = community_louvain.best_partition(G, weight='weight', randomize=True)\n",
        "#print(p1.values())\n",
        "#p = list(partition1.values())\n",
        "#adj_matrix = nx.to_numpy_array(G)\n",
        "#print(sum(adj_matrix[10]))\n",
        "#k = np.array([G.degree(node,weight = 'weight') for node in G.nodes])\n",
        "#print(k[10])\n",
        "#p[0]\n"
      ],
      "metadata": {
        "id": "9ftMCdrH4HrL"
      },
      "execution_count": null,
      "outputs": []
    },
    {
      "cell_type": "code",
      "execution_count": null,
      "metadata": {
        "collapsed": true,
        "id": "-y_visg9e6FL",
        "colab": {
          "base_uri": "https://localhost:8080/"
        },
        "outputId": "2ceac00b-e7f7-4bd3-95cb-b74f461157f5"
      },
      "outputs": [
        {
          "output_type": "stream",
          "name": "stdout",
          "text": [
            "Fitness solucion 1: -0.0006014146929606364 \n",
            "Fitness solucion 2: -0.0014711975503877595 \n",
            "-2.7337356215313607e-05\n",
            "-0.0008869725769949084\n"
          ]
        }
      ],
      "source": [
        "from networkx.algorithms.bipartite.projection import weighted_projected_graph\n",
        "# pip install ipynb\n",
        "from itertools import product\n",
        "#from ???? import crear_grafo\n",
        "import community\n",
        "import networkx as nx\n",
        "import numpy as np\n",
        "\n",
        "### Función objetivo\n",
        "def modularidad(G, particion, weight='weight'):\n",
        "\n",
        "    ### TODO 15-20 lineas\n",
        "    n = G.number_of_nodes()\n",
        "    #m = G.number_of_edges()\n",
        "\n",
        "    particion = dict(zip(G.nodes, particion))\n",
        "\n",
        "\n",
        "    adj_matrix = nx.to_numpy_array(G)\n",
        "    #m = G.size(weight=weight)\n",
        "    #print(m)\n",
        "    m = np.sum(adj_matrix)/2\n",
        "    #print(m)\n",
        "    #print(m)\n",
        "    #m = G.size(weight)\n",
        "\n",
        "\n",
        "    #binary_matrix = np.zeros((n, n))\n",
        "    #p = np.array(list(particion.values()))\n",
        "    #for i in range(n):\n",
        "    #    for j in range(i + 1, n):\n",
        "    #        if p[i] == p[j]:\n",
        "    #            binary_matrix[i, j] = 1\n",
        "    #            binary_matrix[j, i] = 1\n",
        "\n",
        "    binary_matrix = np.zeros((n, n))\n",
        "    p = np.array(list(particion.values()))\n",
        "    rows, cols = np.where(p[:, None] == p[None, :])\n",
        "    binary_matrix[rows, cols] = 1\n",
        "    binary_matrix[cols, rows] = 1\n",
        "\n",
        "    k = np.array([G.degree(node,weight) for node in G.nodes])\n",
        "    prob_matrix = np.divide(np.outer(k, k), 2*m)\n",
        "\n",
        "    fitness = (1/(2*m))*(np.sum(np.multiply((adj_matrix - prob_matrix), binary_matrix)))\n",
        "\n",
        "    return fitness\n",
        "\n",
        "### llamadas generales\n",
        "G = crear_grafo()\n",
        "\n",
        "## nuestra implementación\n",
        "#partition1 = dict(zip(G.nodes, sol_1))\n",
        "#partition2 = dict(zip(G.nodes, sol_2))\n",
        "\n",
        "print(\"Fitness solucion 1: {} \".format(modularidad(G, partition1)))\n",
        "print(\"Fitness solucion 2: {} \".format(modularidad(G, partition2)))\n",
        "\n",
        "partition1 = dict(zip(G.nodes, partition1))\n",
        "partition2 = dict(zip(G.nodes, partition2))\n",
        "print(community_louvain.modularity(partition1, G, weight='weight'))\n",
        "print(community_louvain.modularity(partition2, G, weight='weight'))"
      ]
    },
    {
      "cell_type": "markdown",
      "source": [
        "Algoritmos que podemos probar a implementar:\n",
        "k-means,\n",
        "BL,\n",
        "BLAvanzada"
      ],
      "metadata": {
        "id": "YnqohhX_kdHY"
      }
    },
    {
      "cell_type": "markdown",
      "source": [
        "## Algoritmos\n"
      ],
      "metadata": {
        "id": "liiL_iL3ssAz"
      }
    },
    {
      "cell_type": "markdown",
      "source": [
        "### Random Search"
      ],
      "metadata": {
        "id": "mI5bYx12gJFV"
      }
    },
    {
      "cell_type": "code",
      "source": [
        "import random\n",
        "\n",
        "def random_search(G,num_solutions):\n",
        "  n = G.number_of_nodes()\n",
        "\n",
        "  permutaciones_random = [list(initialize_vector_random(n)) for _ in range(num_solutions)]\n",
        "  lista = [community_louvain.modularity(dict(zip(G.nodes, particion)),G) for particion in permutaciones_random]\n",
        "\n",
        "  fitness = np.max(lista)\n",
        "  solution = permutaciones_random[np.argmax(lista)]\n",
        "  return (fitness, solution, num_solutions)\n",
        "\n",
        "\n",
        "\n",
        "\n"
      ],
      "metadata": {
        "id": "YPwEp2X1sv-r"
      },
      "execution_count": null,
      "outputs": []
    },
    {
      "cell_type": "code",
      "source": [
        "import matplotlib.pyplot as plt\n",
        "import pandas as pd\n",
        "import numpy as np\n",
        "\n",
        "list_iterations = []\n",
        "list_avg_fitness = []\n",
        "list_avg_steps = []\n",
        "repetitions = 10\n",
        "\n",
        "\n",
        "# realizar experimentación con distintos hiperparametros: 10, 100, 1000, 10000...\n",
        "\n",
        "for exp in range(1,8):\n",
        "\n",
        "    iteraciones = 20*exp\n",
        "    avg_fit = 0\n",
        "    avg_steps = 0\n",
        "    print(\"exp: \",exp)\n",
        "\n",
        "    for rep in range(repetitions):\n",
        "\n",
        "        np.random.seed(rep)\n",
        "        fitness, sol, steps = random_search(G,iteraciones)\n",
        "        avg_fit += fitness\n",
        "        avg_steps += steps\n",
        "        print(\"rep: \",rep)\n",
        "\n",
        "    avg_fit /= repetitions\n",
        "    avg_steps /= repetitions\n",
        "    list_iterations.append(iteraciones)\n",
        "    list_avg_fitness.append(avg_fit)\n",
        "    list_avg_steps.append(avg_steps)"
      ],
      "metadata": {
        "colab": {
          "base_uri": "https://localhost:8080/"
        },
        "id": "RxXLX05ncMXm",
        "outputId": "66f7acaa-71f7-4996-bd12-321d5b81247c"
      },
      "execution_count": null,
      "outputs": [
        {
          "output_type": "stream",
          "name": "stdout",
          "text": [
            "exp:  1\n",
            "rep:  0\n",
            "rep:  1\n",
            "rep:  2\n",
            "rep:  3\n",
            "rep:  4\n",
            "rep:  5\n",
            "rep:  6\n",
            "rep:  7\n",
            "rep:  8\n",
            "rep:  9\n",
            "exp:  2\n",
            "rep:  0\n",
            "rep:  1\n",
            "rep:  2\n",
            "rep:  3\n",
            "rep:  4\n",
            "rep:  5\n",
            "rep:  6\n",
            "rep:  7\n",
            "rep:  8\n",
            "rep:  9\n",
            "exp:  3\n",
            "rep:  0\n",
            "rep:  1\n",
            "rep:  2\n",
            "rep:  3\n",
            "rep:  4\n",
            "rep:  5\n",
            "rep:  6\n",
            "rep:  7\n",
            "rep:  8\n",
            "rep:  9\n",
            "exp:  4\n",
            "rep:  0\n",
            "rep:  1\n",
            "rep:  2\n",
            "rep:  3\n",
            "rep:  4\n",
            "rep:  5\n",
            "rep:  6\n",
            "rep:  7\n",
            "rep:  8\n",
            "rep:  9\n",
            "exp:  5\n",
            "rep:  0\n",
            "rep:  1\n",
            "rep:  2\n",
            "rep:  3\n",
            "rep:  4\n",
            "rep:  5\n",
            "rep:  6\n",
            "rep:  7\n",
            "rep:  8\n",
            "rep:  9\n",
            "exp:  6\n",
            "rep:  0\n",
            "rep:  1\n",
            "rep:  2\n",
            "rep:  3\n",
            "rep:  4\n",
            "rep:  5\n",
            "rep:  6\n",
            "rep:  7\n",
            "rep:  8\n",
            "rep:  9\n",
            "exp:  7\n",
            "rep:  0\n",
            "rep:  1\n",
            "rep:  2\n",
            "rep:  3\n",
            "rep:  4\n",
            "rep:  5\n",
            "rep:  6\n",
            "rep:  7\n",
            "rep:  8\n",
            "rep:  9\n"
          ]
        }
      ]
    },
    {
      "cell_type": "code",
      "source": [
        "datos = pd.DataFrame( {\"iteraciones\": list_iterations,\n",
        "                       \"AVG fitness\": list_avg_fitness})\n",
        "\n",
        "datos.set_index('iteraciones', inplace = True)\n",
        "datos.head()\n",
        "\n",
        "%matplotlib inline\n",
        "datos.plot(kind = 'line', ylim=(0,0.10), use_index = True)\n",
        "print(datos)"
      ],
      "metadata": {
        "colab": {
          "base_uri": "https://localhost:8080/",
          "height": 611
        },
        "id": "BPxpn6wOci-k",
        "outputId": "eea71484-5a90-4230-9e05-cae630e4c745"
      },
      "execution_count": null,
      "outputs": [
        {
          "output_type": "stream",
          "name": "stdout",
          "text": [
            "             AVG fitness\n",
            "iteraciones             \n",
            "20              0.002944\n",
            "40              0.003152\n",
            "60              0.004063\n",
            "80              0.004305\n",
            "100             0.003308\n",
            "120             0.005313\n",
            "140             0.005427\n"
          ]
        },
        {
          "output_type": "display_data",
          "data": {
            "text/plain": [
              "<Figure size 640x480 with 1 Axes>"
            ],
            "image/png": "[encoded data removed]"
          },
          "metadata": {}
        }
      ]
    },
    {
      "cell_type": "markdown",
      "source": [
        "### Local Search"
      ],
      "metadata": {
        "id": "wBnoWozMgQXM"
      }
    },
    {
      "cell_type": "code",
      "source": [
        "# Función de vecindad\n"
      ],
      "metadata": {
        "id": "aUPeFK5GiTH-"
      },
      "execution_count": null,
      "outputs": []
    }
  ],
  "metadata": {
    "kernelspec": {
      "display_name": "Python 3",
      "name": "python3"
    },
    "language_info": {
      "codemirror_mode": {
        "name": "ipython",
        "version": 3
      },
      "file_extension": ".py",
      "mimetype": "text/x-python",
      "name": "python",
      "nbconvert_exporter": "python",
      "pygments_lexer": "ipython3",
      "version": "3.7.4"
    },
    "colab": {
      "provenance": [],
      "include_colab_link": true
    }
  },
  "nbformat": 4,
  "nbformat_minor": 0
}